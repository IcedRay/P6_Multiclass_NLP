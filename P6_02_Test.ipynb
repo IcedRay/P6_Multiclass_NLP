{
  "nbformat": 4,
  "nbformat_minor": 0,
  "metadata": {
    "colab": {
      "name": "P6_02_Test.ipynb",
      "provenance": [],
      "toc_visible": true,
      "authorship_tag": "ABX9TyN/+YSLdhiVSNGJLerLn5pc",
      "include_colab_link": true
    },
    "kernelspec": {
      "name": "python3",
      "display_name": "Python 3"
    },
    "language_info": {
      "name": "python"
    }
  },
  "cells": [
    {
      "cell_type": "markdown",
      "metadata": {
        "id": "view-in-github",
        "colab_type": "text"
      },
      "source": [
        "<a href=\"https://colab.research.google.com/github/IcedRay/P6_Multiclass_NLP/blob/main/P6_02_Test.ipynb\" target=\"_parent\"><img src=\"https://colab.research.google.com/assets/colab-badge.svg\" alt=\"Open In Colab\"/></a>"
      ]
    },
    {
      "cell_type": "code",
      "execution_count": 6,
      "metadata": {
        "colab": {
          "base_uri": "https://localhost:8080/"
        },
        "id": "N7CCuasqqzXH",
        "outputId": "8e7be4d4-c0f3-4672-fdc6-051b906b323e"
      },
      "outputs": [
        {
          "output_type": "stream",
          "name": "stdout",
          "text": [
            "Requirement already satisfied: nltk in /usr/local/lib/python3.7/dist-packages (3.2.5)\n",
            "Requirement already satisfied: six in /usr/local/lib/python3.7/dist-packages (from nltk) (1.15.0)\n",
            "Requirement already satisfied: umap in /usr/local/lib/python3.7/dist-packages (0.1.1)\n",
            "Collecting umap-learn\n",
            "  Downloading umap-learn-0.5.2.tar.gz (86 kB)\n",
            "\u001b[K     |████████████████████████████████| 86 kB 2.6 MB/s \n",
            "\u001b[?25hRequirement already satisfied: numpy>=1.17 in /usr/local/lib/python3.7/dist-packages (from umap-learn) (1.21.5)\n",
            "Requirement already satisfied: scikit-learn>=0.22 in /usr/local/lib/python3.7/dist-packages (from umap-learn) (1.0.2)\n",
            "Requirement already satisfied: scipy>=1.0 in /usr/local/lib/python3.7/dist-packages (from umap-learn) (1.4.1)\n",
            "Requirement already satisfied: numba>=0.49 in /usr/local/lib/python3.7/dist-packages (from umap-learn) (0.51.2)\n",
            "Collecting pynndescent>=0.5\n",
            "  Downloading pynndescent-0.5.6.tar.gz (1.1 MB)\n",
            "\u001b[K     |████████████████████████████████| 1.1 MB 27.8 MB/s \n",
            "\u001b[?25hRequirement already satisfied: tqdm in /usr/local/lib/python3.7/dist-packages (from umap-learn) (4.62.3)\n",
            "Requirement already satisfied: llvmlite<0.35,>=0.34.0.dev0 in /usr/local/lib/python3.7/dist-packages (from numba>=0.49->umap-learn) (0.34.0)\n",
            "Requirement already satisfied: setuptools in /usr/local/lib/python3.7/dist-packages (from numba>=0.49->umap-learn) (57.4.0)\n",
            "Requirement already satisfied: joblib>=0.11 in /usr/local/lib/python3.7/dist-packages (from pynndescent>=0.5->umap-learn) (1.1.0)\n",
            "Requirement already satisfied: threadpoolctl>=2.0.0 in /usr/local/lib/python3.7/dist-packages (from scikit-learn>=0.22->umap-learn) (3.1.0)\n",
            "Building wheels for collected packages: umap-learn, pynndescent\n",
            "  Building wheel for umap-learn (setup.py) ... \u001b[?25l\u001b[?25hdone\n",
            "  Created wheel for umap-learn: filename=umap_learn-0.5.2-py3-none-any.whl size=82708 sha256=f42eeb0cd009f1cbb083791b31ce7619180c970b053b6065f235e1a056b896bd\n",
            "  Stored in directory: /root/.cache/pip/wheels/84/1b/c6/aaf68a748122632967cef4dffef68224eb16798b6793257d82\n",
            "  Building wheel for pynndescent (setup.py) ... \u001b[?25l\u001b[?25hdone\n",
            "  Created wheel for pynndescent: filename=pynndescent-0.5.6-py3-none-any.whl size=53943 sha256=e4575a5d15d1c5647359a8a45f28b579f9e707a30ee86af968273906b41ff573\n",
            "  Stored in directory: /root/.cache/pip/wheels/03/f1/56/f80d72741e400345b5a5b50ec3d929aca581bf45e0225d5c50\n",
            "Successfully built umap-learn pynndescent\n",
            "Installing collected packages: pynndescent, umap-learn\n",
            "Successfully installed pynndescent-0.5.6 umap-learn-0.5.2\n"
          ]
        }
      ],
      "source": [
        "!pip install nltk\n",
        "!pip install umap\n",
        "!pip install umap-learn"
      ]
    },
    {
      "cell_type": "markdown",
      "source": [
        "# Methode non supervisée"
      ],
      "metadata": {
        "id": "BHPVNyEqK1WK"
      }
    },
    {
      "cell_type": "code",
      "source": [
        "from google.colab import drive\n",
        "drive.mount('/content/drive')"
      ],
      "metadata": {
        "colab": {
          "base_uri": "https://localhost:8080/"
        },
        "id": "1rETUrBJt3AJ",
        "outputId": "ff077cec-20c0-443c-cf75-ed3cbead1e45"
      },
      "execution_count": 7,
      "outputs": [
        {
          "output_type": "stream",
          "name": "stdout",
          "text": [
            "Drive already mounted at /content/drive; to attempt to forcibly remount, call drive.mount(\"/content/drive\", force_remount=True).\n"
          ]
        }
      ]
    },
    {
      "cell_type": "code",
      "source": [
        "import pandas as pd\n",
        "import numpy as np\n",
        "df = pd.read_csv(\"/content/drive/MyDrive/cleanquestion.csv\")"
      ],
      "metadata": {
        "id": "DAfIi4djt5QW"
      },
      "execution_count": 8,
      "outputs": []
    },
    {
      "cell_type": "code",
      "source": [
        "buff = df.values.tolist()\n",
        "data = [[x[1],x[2],x[3][1:-1].split(\"><\")]for x in buff]\n",
        "data = [x for x in data if x[1] is not np.nan]"
      ],
      "metadata": {
        "id": "kSVOpL1dvc_-"
      },
      "execution_count": 9,
      "outputs": []
    },
    {
      "cell_type": "code",
      "source": [
        "data[:5]"
      ],
      "metadata": {
        "colab": {
          "base_uri": "https://localhost:8080/"
        },
        "id": "ANQUXG7XvpEY",
        "outputId": "1fab63d2-4823-4c9a-ffc6-ade0f103b294"
      },
      "execution_count": 10,
      "outputs": [
        {
          "output_type": "execute_result",
          "data": {
            "text/plain": [
              "[['how convert decimal double c',\n",
              "  'i want use change opacity this code c when i build application give following error none i tried using doesnt work this code worked fine past vbnet project',\n",
              "  ['c#', 'floating-point', 'type-conversion', 'double', 'decimal']],\n",
              " ['why width collapse percentage width child element absolutely positioned parent internet explorer',\n",
              "  'i absolutely positioned containing several child one relatively positioned when i use child collapse ie firefox safari if i use work if parent relatively positioned percentage width child work is something im missing is easy fix besides child is area cs specification cover',\n",
              "  ['html', 'css', 'internet-explorer-7']],\n",
              " ['how i calculate someone age based datetime type birthday',\n",
              "  'given representing person birthday i calculate age year',\n",
              "  ['c#', '.net', 'datetime']],\n",
              " ['calculate relative time c',\n",
              "  'given specific value i display relative time like hour ago day ago month ago',\n",
              "  ['c#', 'datetime', 'time', 'datediff', 'relative-time-span']],\n",
              " ['determine user timezone',\n",
              "  'is standard way web server able determine user timezone within web page perhaps http header part string',\n",
              "  ['html', 'browser', 'timezone', 'user-agent', 'timezone-offset']]]"
            ]
          },
          "metadata": {},
          "execution_count": 10
        }
      ]
    },
    {
      "cell_type": "code",
      "source": [
        "import random\n",
        "random.seed(42)\n",
        "random.shuffle(data)\n",
        "train = data[4000:] #environ 20% sur ce dataset précisément\n",
        "test =  data[:4000] #je pourrais utiliser une autre méthode pour la rendre insensible a la longueur en resmplaçant 4000 par int(POURCENTAGE*len(data)) avec POURCENTAGE le % que je souhaite en training"
      ],
      "metadata": {
        "id": "bvSoqYhOwn34"
      },
      "execution_count": 11,
      "outputs": []
    },
    {
      "cell_type": "code",
      "source": [
        ""
      ],
      "metadata": {
        "id": "9MnP3GOmTo6k"
      },
      "execution_count": null,
      "outputs": []
    },
    {
      "cell_type": "markdown",
      "source": [
        "Algorithme pour chercher les meilleur hyper paramètre pour le TFID vecorizer,\n",
        "on l'associe au MinibatchKmeans qui est un modèle assez général et très rapide pour trouver les meilleur hyperparamètre avant de commencer le training."
      ],
      "metadata": {
        "id": "sBns8abNzSQV"
      }
    },
    {
      "cell_type": "code",
      "source": [
        "from sklearn.experimental import enable_halving_search_cv\n",
        "from sklearn.cluster import MiniBatchKMeans\n",
        "from sklearn.model_selection import HalvingRandomSearchCV\n",
        "from sklearn.feature_extraction.text import TfidfVectorizer\n",
        "from sklearn.pipeline import Pipeline\n",
        "from sklearn.feature_extraction.text import CountVectorizer\n",
        "from sklearn.model_selection import ShuffleSplit\n",
        "Xpre_train = [x[1] for x in train]\n",
        "pipeline = Pipeline([('count',CountVectorizer()) ,('vect', TfidfVectorizer(ngram_range=(1,3),stop_words = 'english')),('mbk', MiniBatchKMeans(init ='k-means++'))])\n",
        "params = [{\n",
        "    'vect__max_df':[0.01*x for x in range(1,99)],\n",
        "    'vect__max_features':range(10,10000,10),\n",
        "    'mbk__n_clusters':range(1,200),\n",
        "    'mbk__n_init':range(3,50)\n",
        "}]\n",
        "cv=ShuffleSplit(test_size=0.20, n_splits=1,random_state=0)#pour retirer la cross validation\n",
        "optimizer =HalvingRandomSearchCV(pipeline,params,n_jobs=-1,cv=cv)#.get_params().keys()#\n",
        "optimizer.fit(Xpre_train)\n",
        "optimizer.best_params_"
      ],
      "metadata": {
        "id": "J9nHymXUxCSk"
      },
      "execution_count": null,
      "outputs": []
    },
    {
      "cell_type": "code",
      "source": [
        "import numpy as np\n",
        "\n",
        "vect = TfidfVectorizer(ngram_range=(1,3),stop_words = 'english',max_df=0.78,max_features=207)\n",
        "Xpre_train = [x[1] for x in train if x[1] is not np.nan]\n",
        "vect.fit(Xpre_train)\n",
        "X_t = vect.transform(Xpre_train)"
      ],
      "metadata": {
        "id": "Kv2ffRjr14uZ"
      },
      "execution_count": 14,
      "outputs": []
    },
    {
      "cell_type": "code",
      "source": [
        "import matplotlib\n",
        "import umap\n",
        "map = umap.UMAP()\n",
        "X_train = map.fit_transform(X_t)"
      ],
      "metadata": {
        "colab": {
          "base_uri": "https://localhost:8080/"
        },
        "id": "6cKJAOjEgv0-",
        "outputId": "16d17e61-749b-464e-e78f-1584d969ee02"
      },
      "execution_count": 15,
      "outputs": [
        {
          "output_type": "stream",
          "name": "stderr",
          "text": [
            "/usr/local/lib/python3.7/dist-packages/numba/np/ufunc/parallel.py:363: NumbaWarning: The TBB threading layer requires TBB version 2019.5 or later i.e., TBB_INTERFACE_VERSION >= 11005. Found TBB_INTERFACE_VERSION = 9107. The TBB threading layer is disabled.\n",
            "  warnings.warn(problem)\n"
          ]
        }
      ]
    },
    {
      "cell_type": "code",
      "source": [
        "from sklearn.cluster import MiniBatchKMeans\n",
        "\n",
        "sum_square_dist =[]\n",
        "x = range(1,207)\n",
        "for k in x:\n",
        "  model = MiniBatchKMeans(n_clusters=k,n_init=10)\n",
        "  model.fit(X_train)\n",
        "  sum_square_dist.append(model.inertia_)\n",
        "import matplotlib.pyplot as plt\n",
        "\n",
        "plt.plot(x,sum_square_dist, 'bx-')\n",
        "plt.show()"
      ],
      "metadata": {
        "colab": {
          "base_uri": "https://localhost:8080/",
          "height": 265
        },
        "id": "0ATQ1wmw5f-w",
        "outputId": "37dd8b3a-f45c-4dc8-9b19-8cd86e3f1d22"
      },
      "execution_count": 16,
      "outputs": [
        {
          "output_type": "display_data",
          "data": {
            "image/png": "[encoded data removed]",
            "text/plain": [
              "<Figure size 432x288 with 1 Axes>"
            ]
          },
          "metadata": {
            "needs_background": "light"
          }
        }
      ]
    },
    {
      "cell_type": "markdown",
      "source": [
        "Pas de coude apparent, mais le modèle semble plus stabe après 50 et paraît être bon à 100 clusters"
      ],
      "metadata": {
        "id": "d9R4Py5jBdGW"
      }
    },
    {
      "cell_type": "code",
      "source": [
        "N_cluster = 50\n",
        "model = MiniBatchKMeans(n_clusters=N_cluster,n_init=10)\n",
        "y = model.fit_predict(X_train)"
      ],
      "metadata": {
        "id": "6ocoC6ScBcHI"
      },
      "execution_count": 17,
      "outputs": []
    },
    {
      "cell_type": "code",
      "source": [
        "import operator\n",
        "def addtag(tag,counter):\n",
        "  if tag in counter.keys():\n",
        "    counter[tag] +=1\n",
        "  else:\n",
        "    counter[tag] = 1\n",
        "tag_list = []\n",
        "avg = []\n",
        "for i in range(N_cluster):\n",
        "  c = {'default_never_used':0}\n",
        "  a = []\n",
        "  for i_sentence in range(len(train)):\n",
        "    if y[i_sentence]==i:\n",
        "      a.append(len(train[i_sentence][2]))\n",
        "      for tag in train[i_sentence][2]:\n",
        "        addtag(tag,c)\n",
        "  avg.append(sum(a)/len(a))\n",
        "  tag_list.append(sorted(c.items(), key=lambda x: x[1], reverse=True))\n",
        "\n",
        "for i in range(len(tag_list)):\n",
        "  print(\"cluster n : \",i)\n",
        "  print(\"Moyenne du nombre de tags dans le cluster :\",avg[i])\n",
        "  print(\"Tags : \",tag_list[i][:round(avg[i])])\n",
        "print('nbr de tag moyen = ', avg)"
      ],
      "metadata": {
        "id": "7JVvmAzMCa1-",
        "colab": {
          "base_uri": "https://localhost:8080/"
        },
        "outputId": "88650278-e64e-4fff-8370-ee5328f7f5bb"
      },
      "execution_count": 18,
      "outputs": [
        {
          "output_type": "stream",
          "name": "stdout",
          "text": [
            "cluster n :  0\n",
            "Moyenne du nombre de tags dans le cluster : 3.041095890410959\n",
            "Tags :  [('image', 55), ('.net', 30), ('c#', 28)]\n",
            "cluster n :  1\n",
            "Moyenne du nombre de tags dans le cluster : 2.892123287671233\n",
            "Tags :  [('.net', 59), ('c#', 56), ('java', 44)]\n",
            "cluster n :  2\n",
            "Moyenne du nombre de tags dans le cluster : 2.8256880733944953\n",
            "Tags :  [('c++', 51), ('c#', 36), ('c', 30)]\n",
            "cluster n :  3\n",
            "Moyenne du nombre de tags dans le cluster : 2.94\n",
            "Tags :  [('64-bit', 37), ('c#', 29), ('c++', 27)]\n",
            "cluster n :  4\n",
            "Moyenne du nombre de tags dans le cluster : 2.8993576017130622\n",
            "Tags :  [('database', 82), ('sql-server', 47), ('c#', 39)]\n",
            "cluster n :  5\n",
            "Moyenne du nombre de tags dans le cluster : 2.8835403726708075\n",
            "Tags :  [('c#', 62), ('java', 56), ('windows', 55)]\n",
            "cluster n :  6\n",
            "Moyenne du nombre de tags dans le cluster : 2.993205682520074\n",
            "Tags :  [('c#', 188), ('.net', 166), ('java', 126)]\n",
            "cluster n :  7\n",
            "Moyenne du nombre de tags dans le cluster : 2.9554794520547945\n",
            "Tags :  [('c#', 110), ('.net', 91), ('arrays', 76)]\n",
            "cluster n :  8\n",
            "Moyenne du nombre de tags dans le cluster : 2.7927461139896375\n",
            "Tags :  [('asp.net', 177), ('javascript', 60), ('html', 54)]\n",
            "cluster n :  9\n",
            "Moyenne du nombre de tags dans le cluster : 2.774011299435028\n",
            "Tags :  [('sql', 75), ('sql-server', 69), ('database', 39)]\n",
            "cluster n :  10\n",
            "Moyenne du nombre de tags dans le cluster : 3.087248322147651\n",
            "Tags :  [('multithreading', 106), ('c#', 38), ('java', 27)]\n",
            "cluster n :  11\n",
            "Moyenne du nombre de tags dans le cluster : 2.8664383561643834\n",
            "Tags :  [('java', 173), ('c#', 67), ('.net', 58)]\n",
            "cluster n :  12\n",
            "Moyenne du nombre de tags dans le cluster : 2.958715596330275\n",
            "Tags :  [('c#', 47), ('.net', 46), ('memory', 37)]\n",
            "cluster n :  13\n",
            "Moyenne du nombre de tags dans le cluster : 2.7657841140529533\n",
            "Tags :  [('visual-studio', 62), ('.net', 51), ('svn', 45)]\n",
            "cluster n :  14\n",
            "Moyenne du nombre de tags dans le cluster : 2.5813953488372094\n",
            "Tags :  [('java', 7), ('.net', 7), ('multithreading', 6)]\n",
            "cluster n :  15\n",
            "Moyenne du nombre de tags dans le cluster : 3.1098039215686275\n",
            "Tags :  [('unit-testing', 111), ('testing', 52), ('c#', 33)]\n",
            "cluster n :  16\n",
            "Moyenne du nombre de tags dans le cluster : 2.7413249211356465\n",
            "Tags :  [('c#', 38), ('asp.net', 28), ('.net', 27)]\n",
            "cluster n :  17\n",
            "Moyenne du nombre de tags dans le cluster : 3.0047468354430378\n",
            "Tags :  [('python', 181), ('php', 133), ('windows', 36)]\n",
            "cluster n :  18\n",
            "Moyenne du nombre de tags dans le cluster : 3.0234375\n",
            "Tags :  [('asp.net', 41), ('.net', 34), ('java', 33)]\n",
            "cluster n :  19\n",
            "Moyenne du nombre de tags dans le cluster : 3.0139697322467986\n",
            "Tags :  [('c#', 116), ('.net', 98), ('java', 70)]\n",
            "cluster n :  20\n",
            "Moyenne du nombre de tags dans le cluster : 3.1136363636363638\n",
            "Tags :  [('c#', 39), ('interface', 27), ('.net', 25)]\n",
            "cluster n :  21\n",
            "Moyenne du nombre de tags dans le cluster : 2.85\n",
            "Tags :  [('c#', 32), ('.net', 25), ('asp.net', 24)]\n",
            "cluster n :  22\n",
            "Moyenne du nombre de tags dans le cluster : 3.036544850498339\n",
            "Tags :  [('c#', 73), ('.net', 50), ('java', 37)]\n",
            "cluster n :  23\n",
            "Moyenne du nombre de tags dans le cluster : 3.045714285714286\n",
            "Tags :  [('c#', 22), ('windows', 18), ('process', 17)]\n",
            "cluster n :  24\n",
            "Moyenne du nombre de tags dans le cluster : 2.9066666666666667\n",
            "Tags :  [('.net', 41), ('c#', 40), ('javascript', 34)]\n",
            "cluster n :  25\n",
            "Moyenne du nombre de tags dans le cluster : 2.7429245283018866\n",
            "Tags :  [('c#', 50), ('.net', 36), ('c++', 29)]\n",
            "cluster n :  26\n",
            "Moyenne du nombre de tags dans le cluster : 3.006993006993007\n",
            "Tags :  [('windows', 100), ('c#', 85), ('.net', 78)]\n",
            "cluster n :  27\n",
            "Moyenne du nombre de tags dans le cluster : 2.8254486133768353\n",
            "Tags :  [('.net', 164), ('c#', 81), ('java', 42)]\n",
            "cluster n :  28\n",
            "Moyenne du nombre de tags dans le cluster : 2.8764367816091956\n",
            "Tags :  [('c#', 71), ('.net', 45), ('c++', 41)]\n",
            "cluster n :  29\n",
            "Moyenne du nombre de tags dans le cluster : 3.0579710144927534\n",
            "Tags :  [('sql', 94), ('sql-server', 56), ('mysql', 44)]\n",
            "cluster n :  30\n",
            "Moyenne du nombre de tags dans le cluster : 3.057377049180328\n",
            "Tags :  [('c#', 17), ('.net', 16), ('encryption', 13)]\n",
            "cluster n :  31\n",
            "Moyenne du nombre de tags dans le cluster : 2.581967213114754\n",
            "Tags :  [('reporting-services', 37), ('crystal-reports', 26), ('reporting', 17)]\n",
            "cluster n :  32\n",
            "Moyenne du nombre de tags dans le cluster : 3.1088082901554404\n",
            "Tags :  [('xml', 130), ('c#', 29), ('.net', 21)]\n",
            "cluster n :  33\n",
            "Moyenne du nombre de tags dans le cluster : 3.234848484848485\n",
            "Tags :  [('exception', 70), ('.net', 38), ('c#', 34)]\n",
            "cluster n :  34\n",
            "Moyenne du nombre de tags dans le cluster : 3.0434782608695654\n",
            "Tags :  [('c#', 53), ('.net', 40), ('events', 40)]\n",
            "cluster n :  35\n",
            "Moyenne du nombre de tags dans le cluster : 2.802298850574713\n",
            "Tags :  [('c#', 65), ('.net', 40), ('java', 26)]\n",
            "cluster n :  36\n",
            "Moyenne du nombre de tags dans le cluster : 3.0211640211640214\n",
            "Tags :  [('svn', 26), ('.net', 25), ('version-control', 25)]\n",
            "cluster n :  37\n",
            "Moyenne du nombre de tags dans le cluster : 2.8885191347753745\n",
            "Tags :  [('c#', 82), ('.net', 61), ('java', 51)]\n",
            "cluster n :  38\n",
            "Moyenne du nombre de tags dans le cluster : 2.88953488372093\n",
            "Tags :  [('c#', 103), ('java', 99), ('.net', 78)]\n",
            "cluster n :  39\n",
            "Moyenne du nombre de tags dans le cluster : 2.8439716312056738\n",
            "Tags :  [('c#', 50), ('.net', 43), ('c++', 37)]\n",
            "cluster n :  40\n",
            "Moyenne du nombre de tags dans le cluster : 2.827777777777778\n",
            "Tags :  [('javascript', 148), ('html', 90), ('css', 36)]\n",
            "cluster n :  41\n",
            "Moyenne du nombre de tags dans le cluster : 2.92964824120603\n",
            "Tags :  [('sql-server', 267), ('sql', 102), ('sql-server-2005', 59)]\n",
            "cluster n :  42\n",
            "Moyenne du nombre de tags dans le cluster : 2.8010471204188483\n",
            "Tags :  [('visual-studio', 191), ('visual-studio-2008', 78), ('.net', 46)]\n",
            "cluster n :  43\n",
            "Moyenne du nombre de tags dans le cluster : 2.8873873873873874\n",
            "Tags :  [('search', 32), ('asp.net', 27), ('javascript', 26)]\n",
            "cluster n :  44\n",
            "Moyenne du nombre de tags dans le cluster : 2.923240938166311\n",
            "Tags :  [('asp.net', 125), ('c#', 111), ('.net', 100)]\n",
            "cluster n :  45\n",
            "Moyenne du nombre de tags dans le cluster : 2.78525641025641\n",
            "Tags :  [('c#', 41), ('.net', 34), ('java', 22)]\n",
            "cluster n :  46\n",
            "Moyenne du nombre de tags dans le cluster : 2.8230088495575223\n",
            "Tags :  [('c#', 47), ('.net', 38), ('java', 34)]\n",
            "cluster n :  47\n",
            "Moyenne du nombre de tags dans le cluster : 2.954352441613588\n",
            "Tags :  [('.net', 97), ('c#', 88), ('java', 75)]\n",
            "cluster n :  48\n",
            "Moyenne du nombre de tags dans le cluster : 3.079847908745247\n",
            "Tags :  [('web-services', 96), ('.net', 56), ('wcf', 43)]\n",
            "cluster n :  49\n",
            "Moyenne du nombre de tags dans le cluster : 2.7720797720797723\n",
            "Tags :  [('sql', 72), ('sql-server', 62), ('database', 50)]\n",
            "nbr de tag moyen =  [3.041095890410959, 2.892123287671233, 2.8256880733944953, 2.94, 2.8993576017130622, 2.8835403726708075, 2.993205682520074, 2.9554794520547945, 2.7927461139896375, 2.774011299435028, 3.087248322147651, 2.8664383561643834, 2.958715596330275, 2.7657841140529533, 2.5813953488372094, 3.1098039215686275, 2.7413249211356465, 3.0047468354430378, 3.0234375, 3.0139697322467986, 3.1136363636363638, 2.85, 3.036544850498339, 3.045714285714286, 2.9066666666666667, 2.7429245283018866, 3.006993006993007, 2.8254486133768353, 2.8764367816091956, 3.0579710144927534, 3.057377049180328, 2.581967213114754, 3.1088082901554404, 3.234848484848485, 3.0434782608695654, 2.802298850574713, 3.0211640211640214, 2.8885191347753745, 2.88953488372093, 2.8439716312056738, 2.827777777777778, 2.92964824120603, 2.8010471204188483, 2.8873873873873874, 2.923240938166311, 2.78525641025641, 2.8230088495575223, 2.954352441613588, 3.079847908745247, 2.7720797720797723]\n"
          ]
        }
      ]
    },
    {
      "cell_type": "code",
      "source": [
        "[key for key,value in tag_list[0][:round(avg[0])]]"
      ],
      "metadata": {
        "colab": {
          "base_uri": "https://localhost:8080/"
        },
        "id": "xxKuvobROsZa",
        "outputId": "554bcf39-b1d1-43ad-c455-56c0c03d1067"
      },
      "execution_count": 19,
      "outputs": [
        {
          "output_type": "execute_result",
          "data": {
            "text/plain": [
              "['image', '.net', 'c#']"
            ]
          },
          "metadata": {},
          "execution_count": 19
        }
      ]
    },
    {
      "cell_type": "code",
      "source": [
        ""
      ],
      "metadata": {
        "id": "m-8CwNtfRTjx"
      },
      "execution_count": null,
      "outputs": []
    },
    {
      "cell_type": "code",
      "source": [
        "from io import StringIO\n",
        "from html.parser import HTMLParser\n",
        "import re\n",
        "import pickle\n",
        "import string\n",
        "import nltk\n",
        "from nltk.corpus import stopwords\n",
        "from nltk.stem import WordNetLemmatizer\n",
        "nltk.download('stopwords')\n",
        "nltk.download('wordnet')\n",
        "\n",
        "from io import StringIO\n",
        "from html.parser import HTMLParser\n",
        "import re\n",
        "class MLStripper(HTMLParser):\n",
        "  def __init__(self):\n",
        "    super().__init__()\n",
        "    self.reset()\n",
        "    self.strict = False\n",
        "    self.convert_charrefs= True\n",
        "    self.text = StringIO()\n",
        "  def handle_data(self, d):\n",
        "    self.text.write(d)\n",
        "  def get_data(self):\n",
        "    return self.text.getvalue()\n",
        "\n",
        "def strip_tags(html):\n",
        "  noescape = re.sub('\\n',' ',html)\n",
        "  nocode = re.sub('<code*?.*?/code>','',noescape)# on retire le code\n",
        "  explicit1 = re.sub('<pre class=\"lang-',' ',nocode)# on garde le tag de language\n",
        "  explicit2 = re.sub('prettyprint-override\">','',explicit1)# on garde le tag de language\n",
        "  explicit3 = re.sub('</pre>','',explicit2)\n",
        "  s = MLStripper()\n",
        "  s.feed(explicit3)\n",
        "  return s.get_data()\n",
        "\n",
        "def preprocess(sentence):\n",
        "  stemmer = WordNetLemmatizer()\n",
        "  nopunc = [char for char in sentence if char not in string.punctuation]\n",
        "  nopunc_nodigit = ''.join([i for i in nopunc if not i.isdigit()])\n",
        "  stopworded = [word.lower() for word in nopunc_nodigit.split() if word not in stopwords.words('english')]\n",
        "  return [stemmer.lemmatize(word) for word in stopworded]\n",
        "\n",
        "def clean(txt):\n",
        "  return \" \".join(preprocess(strip_tags(txt)))\n",
        "\n",
        "class Tagger:\n",
        "  def __init__(self,avg,tag,mod,vec):\n",
        "    self.average = avg\n",
        "    self.tags = tag\n",
        "    self.model = mod\n",
        "    self.vectorizer = vec\n",
        "  def get_tags(self,value):\n",
        "    return  [key for key,value in self.tags[i][:round(avg[i])]]\n",
        "  def get_cluster(self,txt):\n",
        "    buff = vect.transform([clean(txt)])\n",
        "    return model.predict(buff)[0]\n",
        "savetags = Tagger(avg,tag_list,model,vect)\n",
        "with open(\"/content/drive/MyDrive/savetags.savtag\",\"wb+\") as f:\n",
        "    pickle.dump(savetags, f)"
      ],
      "metadata": {
        "colab": {
          "base_uri": "https://localhost:8080/"
        },
        "id": "RKzO4t_zNv1n",
        "outputId": "71a07150-79c9-47f5-f63f-19e8452edec1"
      },
      "execution_count": null,
      "outputs": [
        {
          "output_type": "stream",
          "name": "stdout",
          "text": [
            "[nltk_data] Downloading package stopwords to /root/nltk_data...\n",
            "[nltk_data]   Package stopwords is already up-to-date!\n",
            "[nltk_data] Downloading package wordnet to /root/nltk_data...\n",
            "[nltk_data]   Package wordnet is already up-to-date!\n"
          ]
        }
      ]
    },
    {
      "cell_type": "code",
      "source": [
        "with open(\"/content/drive/MyDrive/savetags.savtag\",\"rb\") as f:\n",
        "  tagger = pickle.load(f)\n",
        "tagger.get_tags(tagger.get_cluster(test[3099][1]))\n"
      ],
      "metadata": {
        "colab": {
          "base_uri": "https://localhost:8080/"
        },
        "id": "njob7_0BQKhv",
        "outputId": "17ff4364-adae-4bcb-f5f3-667ef500fc60"
      },
      "execution_count": null,
      "outputs": [
        {
          "output_type": "execute_result",
          "data": {
            "text/plain": [
              "['c++', 'java', '.net']"
            ]
          },
          "metadata": {},
          "execution_count": 78
        }
      ]
    },
    {
      "cell_type": "markdown",
      "source": [
        "# Methode supervisée\n"
      ],
      "metadata": {
        "id": "602IGOxYN5cD"
      }
    },
    {
      "cell_type": "code",
      "source": [
        ""
      ],
      "metadata": {
        "id": "ccY0IVzJVPwU"
      },
      "execution_count": null,
      "outputs": []
    },
    {
      "cell_type": "markdown",
      "source": [
        ""
      ],
      "metadata": {
        "id": "7J2jbLdzNqjg"
      }
    }
  ]
}